{
 "cells": [
  {
   "cell_type": "code",
   "execution_count": 1,
   "metadata": {},
   "outputs": [],
   "source": [
    "import urllib2, json, requests"
   ]
  },
  {
   "cell_type": "markdown",
   "metadata": {},
   "source": [
    "## Check current student body"
   ]
  },
  {
   "cell_type": "code",
   "execution_count": 2,
   "metadata": {},
   "outputs": [
    {
     "name": "stdout",
     "output_type": "stream",
     "text": [
      "Total Students: 7\n"
     ]
    },
    {
     "data": {
      "text/plain": [
       "{u'name': u'Construction',\n",
       " u'requirements': [{u'group': u'Group Core',\n",
       "   u'name': u'Intro To Construction',\n",
       "   u'satisfiers': [{u'core': [u'CON 101'],\n",
       "     u'count': 1,\n",
       "     u'uuid': u'Introductory Cores'}],\n",
       "   u'type': u'Education'},\n",
       "  {u'group': u'Group Core',\n",
       "   u'name': u'Intro To Construction',\n",
       "   u'satisfiers': [{u'core': [u'CON 102'],\n",
       "     u'count': 1,\n",
       "     u'uuid': u'Introductory Cores'}],\n",
       "   u'type': u'Education'}]}"
      ]
     },
     "execution_count": 2,
     "metadata": {},
     "output_type": "execute_result"
    }
   ],
   "source": [
    "students = urllib2.urlopen(\"http://localhost:3000/api/students\").read()\n",
    "student_body = json.loads(students)\n",
    "\n",
    "print \"Total Students:\", len(student_body['data'])\n",
    "for idx in student_body['data']:\n",
    "#     print idx\n",
    "    pass\n",
    "\n",
    "json_map='''\n",
    "{\n",
    "    \"name\": \"Construction\",\n",
    "    \"requirements\": [\n",
    "    {\n",
    "        \"name\": \"Intro To Construction\",\n",
    "        \"type\": \"Education\",\n",
    "        \"group\": \"Group Core\",\n",
    "        \"satisfiers\": [\n",
    "        {\n",
    "            \"uuid\": \"Introductory Cores\",\n",
    "            \"count\": 1,\n",
    "            \"core\": [\n",
    "                \"CON 101\"\n",
    "            ]\n",
    "        }]\n",
    "    },    \n",
    "    {\n",
    "        \"name\": \"Intro To Construction\",\n",
    "        \"type\": \"Education\",\n",
    "        \"group\": \"Group Core\",\n",
    "        \"satisfiers\": [\n",
    "        {\n",
    "            \"uuid\": \"Introductory Cores\",\n",
    "            \"count\": 1,\n",
    "            \"core\": [\n",
    "                \"CON 102\"\n",
    "            ]\n",
    "        }]\n",
    "    }]\n",
    "}\n",
    "'''\n",
    "python_map = json.loads( json_map.replace(\"\\n\",\"\") )\n",
    "python_map"
   ]
  },
  {
   "cell_type": "code",
   "execution_count": 3,
   "metadata": {},
   "outputs": [
    {
     "data": {
      "text/plain": [
       "u'A86FBFE9-CFFC-7F70-D4BA-A8CCF4B26DFD'"
      ]
     },
     "execution_count": 3,
     "metadata": {},
     "output_type": "execute_result"
    }
   ],
   "source": [
    "map_id = requests.post(\"http://localhost:3000/api/task-map\", data=json_map, allow_redirects=True)\n",
    "json_map_id = map_id.content\n",
    "python_map_id = json.loads( json_map_id )\n",
    "\n",
    "python_map_id['key']\n"
   ]
  },
  {
   "cell_type": "code",
   "execution_count": null,
   "metadata": {},
   "outputs": [],
   "source": []
  },
  {
   "cell_type": "code",
   "execution_count": 4,
   "metadata": {},
   "outputs": [],
   "source": [
    "mymap = \"http://localhost:3000/api/map/\" + python_map_id['key']"
   ]
  },
  {
   "cell_type": "code",
   "execution_count": 5,
   "metadata": {},
   "outputs": [
    {
     "data": {
      "text/plain": [
       "'{\"data\":{\"name\":\"Construction\",\"requirements\":[{\"name\":\"Intro To Construction\",\"type\":\"Education\",\"group\":\"Group Core\",\"satisfiers\":[{\"uuid\":\"Introductory Cores\",\"count\":1,\"core\":[\"CON 101\"]}]},{\"name\":\"Intro To Construction\",\"type\":\"Education\",\"group\":\"Group Core\",\"satisfiers\":[{\"uuid\":\"Introductory Cores\",\"count\":1,\"core\":[\"CON 102\"]}]}]}}'"
      ]
     },
     "execution_count": 5,
     "metadata": {},
     "output_type": "execute_result"
    }
   ],
   "source": [
    "requests.get(mymap).content"
   ]
  },
  {
   "cell_type": "markdown",
   "metadata": {},
   "source": [
    "## Add a transcript"
   ]
  },
  {
   "cell_type": "code",
   "execution_count": 6,
   "metadata": {},
   "outputs": [],
   "source": [
    "json_activity = '''\n",
    "{\n",
    "    \"name\": \"Transcript\",\n",
    "    \"completed\":\n",
    "    {\n",
    "        \"ABC 123\": true,\n",
    "    }\n",
    "}\n",
    "'''"
   ]
  },
  {
   "cell_type": "code",
   "execution_count": 7,
   "metadata": {},
   "outputs": [
    {
     "data": {
      "text/plain": [
       "u'A86FBFE9-CFFC-7F70-D4BA-A8CCF4B26DFD'"
      ]
     },
     "execution_count": 7,
     "metadata": {},
     "output_type": "execute_result"
    }
   ],
   "source": [
    "activity_id = requests.post(\"http://localhost:3000/api/activity-log\", data=json_activity, allow_redirects=True)\n",
    "json_activity_id = map_id.content\n",
    "python_activity_id = json.loads( json_activity_id )\n",
    "\n",
    "python_activity_id['key']"
   ]
  },
  {
   "cell_type": "code",
   "execution_count": 8,
   "metadata": {},
   "outputs": [],
   "source": [
    "myact = \"http://localhost:3000/api/act/\" + python_activity_id['key']"
   ]
  },
  {
   "cell_type": "code",
   "execution_count": 9,
   "metadata": {},
   "outputs": [
    {
     "data": {
      "text/plain": [
       "u'http://localhost:3000/api/act/A86FBFE9-CFFC-7F70-D4BA-A8CCF4B26DFD'"
      ]
     },
     "execution_count": 9,
     "metadata": {},
     "output_type": "execute_result"
    }
   ],
   "source": [
    "myact"
   ]
  },
  {
   "cell_type": "code",
   "execution_count": 15,
   "metadata": {},
   "outputs": [
    {
     "data": {
      "text/plain": [
       "u'A86FBFE9-CFFC-7F70-D4BA-A8CCF4B26DFD'"
      ]
     },
     "execution_count": 15,
     "metadata": {},
     "output_type": "execute_result"
    }
   ],
   "source": [
    "python_map_id['key']"
   ]
  },
  {
   "cell_type": "markdown",
   "metadata": {},
   "source": [
    "## Add a student"
   ]
  },
  {
   "cell_type": "code",
   "execution_count": 10,
   "metadata": {},
   "outputs": [],
   "source": [
    "student_name = \"Alice\"\n",
    "\n",
    "stude = {\n",
    "    \"id\" : \"002\",\n",
    "    \"name\": student_name,\n",
    "    \"taskMapList\": [\n",
    "        python_map_id['key']\n",
    "    ],\n",
    "    \"activityLogList\": [\n",
    "        python_activity_id['key']\n",
    "    ]\n",
    "}"
   ]
  },
  {
   "cell_type": "code",
   "execution_count": 11,
   "metadata": {},
   "outputs": [],
   "source": [
    "json_student = json.dumps(stude)"
   ]
  },
  {
   "cell_type": "code",
   "execution_count": 12,
   "metadata": {},
   "outputs": [
    {
     "data": {
      "text/plain": [
       "'{\"activityLogList\": [\"A86FBFE9-CFFC-7F70-D4BA-A8CCF4B26DFD\"], \"taskMapList\": [\"A86FBFE9-CFFC-7F70-D4BA-A8CCF4B26DFD\"], \"id\": \"002\", \"name\": \"Alice\"}'"
      ]
     },
     "execution_count": 12,
     "metadata": {},
     "output_type": "execute_result"
    }
   ],
   "source": [
    "json_student"
   ]
  },
  {
   "cell_type": "code",
   "execution_count": 13,
   "metadata": {},
   "outputs": [
    {
     "data": {
      "text/plain": [
       "u'A86FBFE9-CFFC-7F70-D4BA-A8CCF4B26DFD'"
      ]
     },
     "execution_count": 13,
     "metadata": {},
     "output_type": "execute_result"
    }
   ],
   "source": [
    "student_id = requests.post(\"http://localhost:3000/api/enroll-student\", data=json_student, allow_redirects=True)\n",
    "json_student_id = map_id.content\n",
    "python_student_id = json.loads( json_student_id )\n",
    "\n",
    "python_student_id['key']"
   ]
  },
  {
   "cell_type": "code",
   "execution_count": 14,
   "metadata": {},
   "outputs": [
    {
     "name": "stdout",
     "output_type": "stream",
     "text": [
      "http://localhost:3000/api/student/A86FBFE9-CFFC-7F70-D4BA-A8CCF4B26DFD\n"
     ]
    },
    {
     "ename": "TypeError",
     "evalue": "'NoneType' object is not iterable",
     "output_type": "error",
     "traceback": [
      "\u001b[0;31m---------------------------------------------------------------------------\u001b[0m",
      "\u001b[0;31mTypeError\u001b[0m                                 Traceback (most recent call last)",
      "\u001b[0;32m<ipython-input-14-064c7d62fae3>\u001b[0m in \u001b[0;36m<module>\u001b[0;34m()\u001b[0m\n\u001b[1;32m      5\u001b[0m \u001b[0mstudents_audits\u001b[0m \u001b[0;34m=\u001b[0m \u001b[0mpython_student\u001b[0m\u001b[0;34m[\u001b[0m\u001b[0;34m'data'\u001b[0m\u001b[0;34m]\u001b[0m\u001b[0;34m[\u001b[0m\u001b[0;34m'taskAuditList'\u001b[0m\u001b[0;34m]\u001b[0m\u001b[0;34m\u001b[0m\u001b[0m\n\u001b[1;32m      6\u001b[0m \u001b[0;34m\u001b[0m\u001b[0m\n\u001b[0;32m----> 7\u001b[0;31m \u001b[0;32mfor\u001b[0m \u001b[0maud\u001b[0m \u001b[0;32min\u001b[0m \u001b[0mstudents_audits\u001b[0m\u001b[0;34m:\u001b[0m\u001b[0;34m\u001b[0m\u001b[0m\n\u001b[0m\u001b[1;32m      8\u001b[0m     \u001b[0;32mprint\u001b[0m \u001b[0maud\u001b[0m\u001b[0;34m\u001b[0m\u001b[0m\n",
      "\u001b[0;31mTypeError\u001b[0m: 'NoneType' object is not iterable"
     ]
    }
   ],
   "source": [
    "student_path = \"http://localhost:3000/api/student/\" + python_student_id['key']\n",
    "print student_path\n",
    "student_info = requests.get(student_path)\n",
    "python_student = json.loads(student_info.content)\n",
    "students_audits = python_student['data']['taskAuditList']\n",
    "\n",
    "for aud in students_audits:\n",
    "    print aud"
   ]
  },
  {
   "cell_type": "code",
   "execution_count": null,
   "metadata": {},
   "outputs": [],
   "source": [
    "students_activity = python_student['data']['activityLogList']\n",
    "\n",
    "for ac in students_activity:\n",
    "    print ac"
   ]
  },
  {
   "cell_type": "code",
   "execution_count": null,
   "metadata": {},
   "outputs": [],
   "source": [
    "audit_path = \"http://localhost:3000/api/audit/\" + aud\n",
    "print audit_path\n",
    "audit_info = requests.get(audit_path)\n",
    "\n",
    "audit_info.content"
   ]
  },
  {
   "cell_type": "code",
   "execution_count": null,
   "metadata": {},
   "outputs": [],
   "source": [
    "python_activity_id['key']"
   ]
  },
  {
   "cell_type": "code",
   "execution_count": null,
   "metadata": {},
   "outputs": [],
   "source": []
  }
 ],
 "metadata": {
  "kernelspec": {
   "display_name": "Python 2",
   "language": "python",
   "name": "python2"
  },
  "language_info": {
   "codemirror_mode": {
    "name": "ipython",
    "version": 2
   },
   "file_extension": ".py",
   "mimetype": "text/x-python",
   "name": "python",
   "nbconvert_exporter": "python",
   "pygments_lexer": "ipython2",
   "version": "2.7.9"
  }
 },
 "nbformat": 4,
 "nbformat_minor": 2
}

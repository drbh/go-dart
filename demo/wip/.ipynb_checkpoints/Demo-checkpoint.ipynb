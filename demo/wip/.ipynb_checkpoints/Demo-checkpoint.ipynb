{
 "cells": [
  {
   "cell_type": "code",
   "execution_count": 2,
   "metadata": {},
   "outputs": [],
   "source": [
    "import urllib2, json, requests"
   ]
  },
  {
   "cell_type": "markdown",
   "metadata": {},
   "source": [
    "## Check current student body"
   ]
  },
  {
   "cell_type": "code",
   "execution_count": 3,
   "metadata": {},
   "outputs": [
    {
     "name": "stdout",
     "output_type": "stream",
     "text": [
      "Total Students: 4\n"
     ]
    },
    {
     "data": {
      "text/plain": [
       "{u'name': u'Construction',\n",
       " u'requirements': [{u'group': u'Group Core',\n",
       "   u'name': u'Intro To Construction',\n",
       "   u'satisfiers': [{u'core': [u'CON 101'],\n",
       "     u'count': 1,\n",
       "     u'uuid': u'Introductory Cores'}],\n",
       "   u'type': u'Education'},\n",
       "  {u'group': u'Group Core',\n",
       "   u'name': u'Intro To Construction',\n",
       "   u'satisfiers': [{u'core': [u'CON 102'],\n",
       "     u'count': 1,\n",
       "     u'uuid': u'Introductory Cores'}],\n",
       "   u'type': u'Education'}]}"
      ]
     },
     "execution_count": 3,
     "metadata": {},
     "output_type": "execute_result"
    }
   ],
   "source": [
    "students = urllib2.urlopen(\"http://localhost:3000/api/students\").read()\n",
    "student_body = json.loads(students)\n",
    "\n",
    "print \"Total Students:\", len(student_body['data'])\n",
    "for idx in student_body['data']:\n",
    "#     print idx\n",
    "    pass\n",
    "\n",
    "json_map='''\n",
    "{\n",
    "    \"name\": \"Construction\",\n",
    "    \"requirements\": [\n",
    "    {\n",
    "        \"name\": \"Intro To Construction\",\n",
    "        \"type\": \"Education\",\n",
    "        \"group\": \"Group Core\",\n",
    "        \"satisfiers\": [\n",
    "        {\n",
    "            \"uuid\": \"Introductory Cores\",\n",
    "            \"count\": 1,\n",
    "            \"core\": [\n",
    "                \"CON 101\"\n",
    "            ]\n",
    "        }]\n",
    "    },    \n",
    "    {\n",
    "        \"name\": \"Intro To Construction\",\n",
    "        \"type\": \"Education\",\n",
    "        \"group\": \"Group Core\",\n",
    "        \"satisfiers\": [\n",
    "        {\n",
    "            \"uuid\": \"Introductory Cores\",\n",
    "            \"count\": 1,\n",
    "            \"core\": [\n",
    "                \"CON 102\"\n",
    "            ]\n",
    "        }]\n",
    "    }]\n",
    "}\n",
    "'''\n",
    "python_map = json.loads( json_map.replace(\"\\n\",\"\") )\n",
    "python_map"
   ]
  },
  {
   "cell_type": "code",
   "execution_count": 4,
   "metadata": {},
   "outputs": [
    {
     "data": {
      "text/plain": [
       "u'XVLBZGBAIC'"
      ]
     },
     "execution_count": 4,
     "metadata": {},
     "output_type": "execute_result"
    }
   ],
   "source": [
    "map_id = requests.post(\"http://localhost:3000/api/task-map\", data=json_map, allow_redirects=True)\n",
    "json_map_id = map_id.content\n",
    "python_map_id = json.loads( json_map_id )\n",
    "\n",
    "python_map_id['key']\n"
   ]
  },
  {
   "cell_type": "code",
   "execution_count": null,
   "metadata": {},
   "outputs": [],
   "source": []
  },
  {
   "cell_type": "code",
   "execution_count": 6,
   "metadata": {},
   "outputs": [],
   "source": [
    "mymap = \"http://localhost:3000/api/map/\" + python_map_id['key']"
   ]
  },
  {
   "cell_type": "code",
   "execution_count": 7,
   "metadata": {},
   "outputs": [
    {
     "data": {
      "text/plain": [
       "'{\"data\":{\"name\":\"Construction\",\"requirements\":[{\"name\":\"Intro To Construction\",\"type\":\"Education\",\"group\":\"Group Core\",\"satisfiers\":[{\"uuid\":\"Introductory Cores\",\"count\":1,\"core\":[\"CON 101\"]}]},{\"name\":\"Intro To Construction\",\"type\":\"Education\",\"group\":\"Group Core\",\"satisfiers\":[{\"uuid\":\"Introductory Cores\",\"count\":1,\"core\":[\"CON 102\"]}]}]}}'"
      ]
     },
     "execution_count": 7,
     "metadata": {},
     "output_type": "execute_result"
    }
   ],
   "source": [
    "requests.get(mymap).content"
   ]
  },
  {
   "cell_type": "markdown",
   "metadata": {},
   "source": [
    "## Add a transcript"
   ]
  },
  {
   "cell_type": "code",
   "execution_count": 9,
   "metadata": {},
   "outputs": [],
   "source": [
    "json_activity = '''\n",
    "{\n",
    "    \"name\": \"Transcript\",\n",
    "    \"completed\":\n",
    "    {\n",
    "        \"ABC 123\": true,\n",
    "    }\n",
    "}\n",
    "'''"
   ]
  },
  {
   "cell_type": "code",
   "execution_count": null,
   "metadata": {},
   "outputs": [],
   "source": [
    "activity_id = requests.post(\"http://localhost:3000/api/activity-log\", data=json_activity, allow_redirects=True)\n",
    "json_activity_id = map_id.content\n",
    "python_activity_id = json.loads( json_activity_id )\n",
    "\n",
    "python_activity_id['key']"
   ]
  },
  {
   "cell_type": "code",
   "execution_count": null,
   "metadata": {},
   "outputs": [],
   "source": [
    "myact = \"http://localhost:3000/api/act/\" + python_activity_id['key']"
   ]
  },
  {
   "cell_type": "code",
   "execution_count": null,
   "metadata": {},
   "outputs": [],
   "source": [
    "myact"
   ]
  },
  {
   "cell_type": "markdown",
   "metadata": {},
   "source": [
    "## Add a student"
   ]
  },
  {
   "cell_type": "code",
   "execution_count": null,
   "metadata": {},
   "outputs": [],
   "source": [
    "student_name = \"Alice\"\n",
    "\n",
    "stude = {\n",
    "    \"id\" : \"001\",\n",
    "    \"name\": student_name,\n",
    "    \"taskMapList\": [\n",
    "        python_map_id['key']\n",
    "    ],\n",
    "    \"activityLogList\": [\n",
    "        python_activity_id['key']\n",
    "    ]\n",
    "}"
   ]
  },
  {
   "cell_type": "code",
   "execution_count": null,
   "metadata": {},
   "outputs": [],
   "source": [
    "json_student = json.dumps(stude)"
   ]
  },
  {
   "cell_type": "code",
   "execution_count": null,
   "metadata": {},
   "outputs": [],
   "source": [
    "student_id = requests.post(\"http://localhost:3000/api/enroll-student\", data=json_student, allow_redirects=True)\n",
    "json_student_id = map_id.content\n",
    "python_student_id = json.loads( json_student_id )\n",
    "\n",
    "python_student_id['key']"
   ]
  },
  {
   "cell_type": "code",
   "execution_count": null,
   "metadata": {},
   "outputs": [],
   "source": [
    "student_path = \"http://localhost:3000/api/student/\" + python_student_id['key']\n",
    "\n",
    "student_info = requests.get(student_path)\n",
    "python_student = json.loads(student_info.content)\n",
    "students_audits = python_student['data']['taskAuditList']\n",
    "\n",
    "for aud in students_audits:\n",
    "    print aud"
   ]
  },
  {
   "cell_type": "code",
   "execution_count": null,
   "metadata": {},
   "outputs": [],
   "source": [
    "students_activity = python_student['data']['activityLogList']\n",
    "\n",
    "for ac in students_activity:\n",
    "    print ac"
   ]
  },
  {
   "cell_type": "code",
   "execution_count": null,
   "metadata": {},
   "outputs": [],
   "source": [
    "audit_path = \"http://localhost:3000/api/audit/\" + aud\n",
    "print audit_path\n",
    "audit_info = requests.get(audit_path)\n",
    "\n",
    "audit_info.content"
   ]
  },
  {
   "cell_type": "code",
   "execution_count": null,
   "metadata": {},
   "outputs": [],
   "source": [
    "python_activity_id['key']"
   ]
  },
  {
   "cell_type": "code",
   "execution_count": null,
   "metadata": {},
   "outputs": [],
   "source": []
  }
 ],
 "metadata": {
  "kernelspec": {
   "display_name": "Python 2",
   "language": "python",
   "name": "python2"
  },
  "language_info": {
   "codemirror_mode": {
    "name": "ipython",
    "version": 2
   },
   "file_extension": ".py",
   "mimetype": "text/x-python",
   "name": "python",
   "nbconvert_exporter": "python",
   "pygments_lexer": "ipython2",
   "version": "2.7.9"
  }
 },
 "nbformat": 4,
 "nbformat_minor": 2
}
